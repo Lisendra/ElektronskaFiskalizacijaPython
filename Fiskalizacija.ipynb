{
 "cells": [
  {
   "cell_type": "markdown",
   "metadata": {},
   "source": [
    "# Elektronska fiskalizacija"
   ]
  },
  {
   "cell_type": "markdown",
   "metadata": {},
   "source": [
    "**Primjeri kod-a u Python-u**"
   ]
  },
  {
   "cell_type": "markdown",
   "metadata": {},
   "source": [
    "Za primjere u prilogu je neophodno imati `signxml`, `pycrypto` pa to valja prethodno instalirati (`!pip install signxml pycrypto`). Osim toga, podrazumijeva se posjedovanje test PFX sertifikata (_CoreitPecatSoft.pfx_) u lokalnom folderu.\n",
    "\n",
    "**sstevan**: Možete pokrenuti i `pip install -r requirements.txt ` da se instaliraju svi neophodni paketi.\n"
   ]
  },
  {
   "cell_type": "code",
   "execution_count": 1,
   "metadata": {},
   "outputs": [],
   "source": [
    "pfx_cert = 'CoreitPecatSoft.pfx'\n",
    "pfx_password = b'123456'"
   ]
  },
  {
   "cell_type": "markdown",
   "metadata": {},
   "source": [
    "### Priprema sertifikata"
   ]
  },
  {
   "cell_type": "markdown",
   "metadata": {},
   "source": [
    "Ekstrakcija privatnog kljuca i sertifikata iz PFX kontejnera. Za taj dio koristim kod dostupan na sljedecem [linku](https://www.jhanley.com/google-cloud-extracting-private-key-from-service-account-p12-credentials/) "
   ]
  },
  {
   "cell_type": "code",
   "execution_count": 2,
   "metadata": {},
   "outputs": [
    {
     "name": "stdout",
     "output_type": "stream",
     "text": [
      "Opening: CoreitPecatSoft.pfx\n",
      "Loading P12 (PFX) contents:\n",
      "Creating Private Key File: coreit.key\n",
      "Creating Certificate File: coreit_cert.pem\n",
      "Creating Certificate CA File: coreit_ca.pem\n"
     ]
    }
   ],
   "source": [
    "import OpenSSL.crypto\n",
    "import os\n",
    "\n",
    "###########################################################    \n",
    "# Version 1.00\n",
    "# Date Created: 2018-12-21\n",
    "# Last Update:  2018-12-21\n",
    "# https://www.jhanley.com\n",
    "# Copyright (c) 2018, John J. Hanley\n",
    "# Author: John Hanley\n",
    "###########################################################\n",
    "\n",
    "# Convert a Google P12 (PFX) service account into private key and certificate.\n",
    "# Convert an SSL Certifcate (PFX) into private key, certificate and CAs.\n",
    "\n",
    "def write_CAs(filename, p12):\n",
    "    # Write the Certificate Authorities, if any, to filename\n",
    "\n",
    "    if os.path.exists(filename):\n",
    "        os.remove(filename)\n",
    "\n",
    "    ca = p12.get_ca_certificates()\n",
    "\n",
    "    if ca is None:\n",
    "        return\n",
    "\n",
    "    print('Creating Certificate CA File:', filename)\n",
    "\n",
    "    with open(filename, 'wb') as f:\n",
    "        for cert in ca:\n",
    "            f.write(OpenSSL.crypto.dump_certificate(OpenSSL.crypto.FILETYPE_PEM, cert))\n",
    "\n",
    "def pfx_to_pem(pfx_path, pfx_password, pkey_path, pem_path, pem_ca_path):\n",
    "    '''\n",
    "    Decrypt the P12 (PFX) file and create a private key file and certificate file.\n",
    "\n",
    "    Input:\n",
    "        pfx_path    INPUT: This is the Google P12 file or SSL PFX certificate file\n",
    "        pfx_password    INPUT: Password used to protect P12 (PFX)\n",
    "        pkey_path   INPUT: File name to write the Private Key to\n",
    "        pem_path    INPUT: File name to write the Certificate to\n",
    "        pem_ca_path INPUT: File name to write the Certificate Authorities to\n",
    "    '''\n",
    "\n",
    "    print('Opening:', pfx_path)\n",
    "    with open(pfx_path, 'rb') as f_pfx:\n",
    "        pfx = f_pfx.read()\n",
    "\n",
    "    print('Loading P12 (PFX) contents:')\n",
    "    p12 = OpenSSL.crypto.load_pkcs12(pfx, pfx_password)\n",
    "\n",
    "    print('Creating Private Key File:', pkey_path)\n",
    "    with open(pkey_path, 'wb') as f:\n",
    "        # Write Private Key\n",
    "        f.write(OpenSSL.crypto.dump_privatekey(OpenSSL.crypto.FILETYPE_PEM, p12.get_privatekey()))\n",
    "\n",
    "    print('Creating Certificate File:', pem_path)\n",
    "    with open(pem_path, 'wb') as f:\n",
    "        # Write Certificate\n",
    "        f.write(OpenSSL.crypto.dump_certificate(OpenSSL.crypto.FILETYPE_PEM, p12.get_certificate()))\n",
    "\n",
    "    # Google P12 does not have certifiate authorities but SSL PFX certificates do\n",
    "    write_CAs(pem_ca_path, p12)\n",
    "\n",
    "\n",
    "# Start here\n",
    "pfx_to_pem(\n",
    "    pfx_cert,         # Google Service Account P12 file\n",
    "    pfx_password,     # P12 file password\n",
    "    'coreit.key',      # Filename to write private key\n",
    "    'coreit_cert.pem', # Filename to write certificate\n",
    "    'coreit_ca.pem')   # Filename to write CAs if present"
   ]
  },
  {
   "cell_type": "markdown",
   "metadata": {},
   "source": [
    "### Osnovi podaci"
   ]
  },
  {
   "cell_type": "code",
   "execution_count": 3,
   "metadata": {},
   "outputs": [],
   "source": [
    "taxpayer = {\n",
    "    'tin': '12345678', # Taxpayers tax identification number (PIB/JMB),\n",
    "    'bu': 'bb123bb123', # Business unit code (PJ),\n",
    "    'cr': 'cc123cc123', # ENU code,\n",
    "    'sw': 'ss123ss123' # ENU software code\n",
    "}\n",
    "\n",
    "invoice = {\n",
    "    'ord': '1', # Invoice ordinal number,\n",
    "    'prc': '121.00' # Total invoice price / bice reazurirano\n",
    "}"
   ]
  },
  {
   "cell_type": "markdown",
   "metadata": {},
   "source": [
    "#### Stavke racuna"
   ]
  },
  {
   "cell_type": "code",
   "execution_count": 4,
   "metadata": {},
   "outputs": [
    {
     "data": {
      "text/html": [
       "<div>\n",
       "<style scoped>\n",
       "    .dataframe tbody tr th:only-of-type {\n",
       "        vertical-align: middle;\n",
       "    }\n",
       "\n",
       "    .dataframe tbody tr th {\n",
       "        vertical-align: top;\n",
       "    }\n",
       "\n",
       "    .dataframe thead th {\n",
       "        text-align: right;\n",
       "    }\n",
       "</style>\n",
       "<table border=\"1\" class=\"dataframe\">\n",
       "  <thead>\n",
       "    <tr style=\"text-align: right;\">\n",
       "      <th></th>\n",
       "      <th>N</th>\n",
       "      <th>C</th>\n",
       "      <th>U</th>\n",
       "      <th>Q</th>\n",
       "      <th>UPB</th>\n",
       "      <th>UPA</th>\n",
       "      <th>R</th>\n",
       "      <th>RR</th>\n",
       "      <th>PB</th>\n",
       "      <th>VR</th>\n",
       "      <th>VA</th>\n",
       "      <th>PA</th>\n",
       "    </tr>\n",
       "  </thead>\n",
       "  <tbody>\n",
       "    <tr>\n",
       "      <th>0</th>\n",
       "      <td>Test artikal</td>\n",
       "      <td>1234234</td>\n",
       "      <td>kom</td>\n",
       "      <td>1.0</td>\n",
       "      <td>100.0</td>\n",
       "      <td>121.0</td>\n",
       "      <td>0.0</td>\n",
       "      <td>true</td>\n",
       "      <td>100.0</td>\n",
       "      <td>21.0</td>\n",
       "      <td>21.0</td>\n",
       "      <td>121.0</td>\n",
       "    </tr>\n",
       "  </tbody>\n",
       "</table>\n",
       "</div>"
      ],
      "text/plain": [
       "              N        C    U    Q    UPB    UPA    R    RR     PB    VR  \\\n",
       "0  Test artikal  1234234  kom  1.0  100.0  121.0  0.0  true  100.0  21.0   \n",
       "\n",
       "     VA     PA  \n",
       "0  21.0  121.0  "
      ]
     },
     "execution_count": 4,
     "metadata": {},
     "output_type": "execute_result"
    }
   ],
   "source": [
    "import pandas as pd\n",
    "invoice_items = pd.DataFrame({\n",
    "    'N': [], # Name of item (goods or services)\n",
    "    'C': [], # Code of the item from the barcode or similar representation\n",
    "    'U': [], # Unit of measure\n",
    "    'Q': [], # Quantity\n",
    "    'UPB': [], # Unit price before VAT is applied\n",
    "    'UPA': [], # Unit price after VAT is applied\n",
    "    'R': [], # Percentage of the rebate\n",
    "    'RR': [], # Is rebate reducing tax base amount? (true)\n",
    "    'PB': [], # Total price of goods and services before the tax\n",
    "    'VR': [], # VAT Rate\n",
    "    'VA': [], # Amount of VAT for goods and services\n",
    "    'PA': [], # Price after applying VAT\n",
    "})\n",
    "\n",
    "invoice_items = invoice_items.append({\n",
    "    'N': 'Test artikal',\n",
    "    'C': '1234234',\n",
    "    'U': 'kom',\n",
    "    'Q': 1,\n",
    "    'UPB': 100.0,\n",
    "    'UPA': None,\n",
    "    'R': 0,\n",
    "    'RR': 'true',\n",
    "    'PB': None,\n",
    "    'VR': 21.00,\n",
    "    'VA': None,\n",
    "    'PA': None\n",
    "}, ignore_index=True)\n",
    "\n",
    "\n",
    "invoice_items['UPA'] = invoice_items['UPB'] * (1 + invoice_items['VR'] / 100)\n",
    "invoice_items['PB'] = invoice_items['UPB'] * invoice_items['Q']\n",
    "invoice_items['PA'] = invoice_items['UPA'] * invoice_items['Q']\n",
    "invoice_items['VA'] = invoice_items['PA'] - invoice_items['PB']\n",
    "invoice_items"
   ]
  },
  {
   "cell_type": "code",
   "execution_count": 5,
   "metadata": {},
   "outputs": [],
   "source": [
    "# TODO: Spojiti stavke fakture sa XML dokumentom"
   ]
  },
  {
   "cell_type": "markdown",
   "metadata": {},
   "source": [
    "#### Generisanje UUID-a"
   ]
  },
  {
   "cell_type": "code",
   "execution_count": 6,
   "metadata": {},
   "outputs": [],
   "source": [
    "import uuid\n",
    "fresh_uuid = str(uuid.uuid4())"
   ]
  },
  {
   "cell_type": "markdown",
   "metadata": {},
   "source": [
    "#### Odredjivanje datuma i vremena"
   ]
  },
  {
   "cell_type": "code",
   "execution_count": 7,
   "metadata": {},
   "outputs": [],
   "source": [
    "from datetime import datetime\n",
    "import pytz\n",
    "\n",
    "current_time = datetime.now(pytz.timezone('Europe/Podgorica')).strftime('%Y-%m-%dT%H:%M:%S%z')\n",
    "current_time = \"{0}:{1}\".format(current_time[:-2], current_time[-2:])"
   ]
  },
  {
   "cell_type": "markdown",
   "metadata": {},
   "source": [
    "### Generisanje IKOF-a"
   ]
  },
  {
   "cell_type": "code",
   "execution_count": 8,
   "metadata": {},
   "outputs": [],
   "source": [
    "import hashlib\n",
    "import sys\n",
    "import time\n",
    "\n",
    "from Crypto.PublicKey import RSA\n",
    "from Crypto.Cipher import PKCS1_v1_5 as Cipher_PKCS1_v1_5\n",
    "from Crypto.Signature import PKCS1_v1_5\n",
    "from base64 import b64decode, b64encode\n",
    "from Crypto.Hash import SHA256\n",
    "\n",
    "# sstevan: Python 3.8 nema time.clock() pa pycrypto pravi probleme\n",
    "if sys.version_info >= (3, 8):\n",
    "    time.clock = time.process_time\n",
    "\n",
    "\n",
    "def generate_iis(data, private_key_path):\n",
    "    print('IKOF data element:', data)\n",
    "    message = bytes(data, 'utf8')\n",
    "    digest = SHA256.new()\n",
    "    digest.update(message)    \n",
    "    private_key = False\n",
    "    with open(private_key_path, \"r\") as key_file:\n",
    "        private_key = RSA.importKey(key_file.read())\n",
    "    signer = PKCS1_v1_5.new(private_key)\n",
    "    sig = signer.sign(digest)\n",
    "    iic = hashlib.md5(sig).digest()\n",
    "    \n",
    "    return (sig.hex(), iic.hex())"
   ]
  },
  {
   "cell_type": "markdown",
   "metadata": {},
   "source": [
    "#### Primjer:"
   ]
  },
  {
   "cell_type": "code",
   "execution_count": 9,
   "metadata": {},
   "outputs": [
    {
     "name": "stdout",
     "output_type": "stream",
     "text": [
      "IKOF data element: 12345678|2020-11-04T14:07:14+01:00|1|bb123bb123|cc123cc123|ss123ss123|121.00\n",
      "IKOF: af1237d9bb449406a7c108f95897505e\n"
     ]
    }
   ],
   "source": [
    "(iic, ikof) = generate_iis(\n",
    "    \"{tin}|{current_time}|{no}|{bu}|{cr}|{sw}|{prc}\".format(\n",
    "        tin = taxpayer['tin'],\n",
    "        current_time = current_time,\n",
    "        no = invoice['ord'],\n",
    "        bu = taxpayer['bu'],\n",
    "        cr = taxpayer['cr'],\n",
    "        sw = taxpayer['sw'],\n",
    "        prc = invoice['prc']\n",
    "    ),\n",
    "    'coreit.key'\n",
    ")\n",
    "print(\"IKOF:\", ikof)"
   ]
  },
  {
   "cell_type": "markdown",
   "metadata": {},
   "source": [
    "### Priprema i potpisivanje XML-a"
   ]
  },
  {
   "cell_type": "markdown",
   "metadata": {},
   "source": [
    "#### Priprema XML objekta i parsiranje XML sadrzaja"
   ]
  },
  {
   "cell_type": "code",
   "execution_count": 10,
   "metadata": {},
   "outputs": [],
   "source": [
    "# Formiranje dictionary objekta sa podacima za XML fajl\n",
    "xmldata = {\n",
    "    'RegisterInvoiceRequest': {\n",
    "        '@xmlns:xsd': 'http://www.w3.org/2001/XMLSchema',\n",
    "        '@xmlns:xsi': 'http://www.w3.org/2001/XMLSchema-instance',\n",
    "        '@xmlns': 'https://efi.tax.gov.me/fs/schema',\n",
    "        '@Id': 'Request',\n",
    "        '@Version': '1',\n",
    "        'Header': {\n",
    "            '@UUID': fresh_uuid,\n",
    "            '@SendDateTime': current_time\n",
    "        },\n",
    "        'Invoice': {\n",
    "            '@TypeOfInv': 'NONCASH',\n",
    "            '@IsSimplifiedInv': 'false',\n",
    "            '@IssueDateTime': current_time,\n",
    "            '@InvNum': '{0}/{1}'.format(invoice['ord'], datetime.now().year),\n",
    "            '@InvOrdNum': invoice['ord'],\n",
    "            #'@TCRCode': 'nt360fe389', # ENU code, mandatory if invoice is other than non-cash\n",
    "            '@IsIssuerInVAT': 'true',\n",
    "            '@TotPriceWoVAT': '100.00',\n",
    "            '@TotVATAmt': '21.00',\n",
    "            '@TotPrice': '121.00',\n",
    "            '@OperatorCode': 'oo123oo123',\n",
    "            '@BusinUnitCode': 'xx123xx123',\n",
    "            '@SoftCode': 'ss123ss123',\n",
    "            '@IIC': ikof,\n",
    "            '@IICSignature': iic,\n",
    "            '@IsReverseCharge': 'false',\n",
    "            'PayMethods': {\n",
    "                'PayMethod': {\n",
    "                    '@Type': 'ACCOUNT',\n",
    "                    '@Amt': '121.00'\n",
    "                }\n",
    "            },\n",
    "            'Seller': {\n",
    "                '@IDType': 'TIN',\n",
    "                '@IDNum': '12345678',\n",
    "                '@Name': 'Test d.o.o.'\n",
    "            },\n",
    "            'Buyer': {\n",
    "                '@IDType': 'TIN',\n",
    "                '@IDNum': '12345678',\n",
    "                '@Name': 'Test d.o.o'\n",
    "            },\n",
    "            'Items': {\n",
    "                'I': {\n",
    "                    '@N': 'Test artikal',\n",
    "                    '@C': '1234234',\n",
    "                    '@U': 'kom',\n",
    "                    '@Q': '1',\n",
    "                    '@UPB': '100.00',\n",
    "                    '@UPA': '121.00',\n",
    "                    '@R': '0',\n",
    "                    '@RR': 'true',\n",
    "                    '@PB': '100.00',\n",
    "                    '@VR': '21.00',\n",
    "                    '@VA': '21.00',\n",
    "                    '@PA': '121.00'\n",
    "                }\n",
    "            },\n",
    "            'SameTaxes': {\n",
    "                'SameTax': {\n",
    "                    '@NumOfItems': '1',\n",
    "                    '@PriceBefVAT': '100.00',\n",
    "                    '@VATRate': '21.00',\n",
    "                    '@VATAmt': '21.00'\n",
    "                }\n",
    "            }\n",
    "        }\n",
    "    }\n",
    "}"
   ]
  },
  {
   "cell_type": "code",
   "execution_count": 11,
   "metadata": {},
   "outputs": [],
   "source": [
    "# Konverzija u XML format za parsiranje u etree objekat\n",
    "import xmltodict\n",
    "xml = xmltodict.unparse(xmldata)\n",
    "\n",
    "# etree ne voli encoding zapis, pa se on uklanja iz XML-a\n",
    "xml = xml.replace(' encoding=\"utf-8\"', '')\n",
    "\n",
    "from lxml import etree\n",
    "xml_obj = etree.fromstring(xml)"
   ]
  },
  {
   "cell_type": "code",
   "execution_count": 12,
   "metadata": {},
   "outputs": [
    {
     "name": "stdout",
     "output_type": "stream",
     "text": [
      "<RegisterInvoiceRequest xmlns:xsd=\"http://www.w3.org/2001/XMLSchema\" xmlns:xsi=\"http://www.w3.org/2001/XMLSchema-instance\" xmlns=\"https://efi.tax.gov.me/fs/schema\" Id=\"Request\" Version=\"1\"><Header UUID=\"b2ce055f-aa65-4a0f-b6cb-bf492a8e31ff\" SendDateTime=\"2020-11-04T14:07:14+01:00\"/><Invoice TypeOfInv=\"NONCASH\" IsSimplifiedInv=\"false\" IssueDateTime=\"2020-11-04T14:07:14+01:00\" InvNum=\"1/2020\" InvOrdNum=\"1\" IsIssuerInVAT=\"true\" TotPriceWoVAT=\"100.00\" TotVATAmt=\"21.00\" TotPrice=\"121.00\" OperatorCode=\"oo123oo123\" BusinUnitCode=\"xx123xx123\" SoftCode=\"ss123ss123\" IIC=\"af1237d9bb449406a7c108f95897505e\" IICSignature=\"83a5cb5cc6efcde84b128f51276d6ce797893eadcdf3cd55fbc93b46389203aa7145e03663c09099ab2dbec86d670225d108e87494b1f6f36d0409ef682293baa2a483f57abcac1485b47241bad6e28ea4720b8b9784b5c83ceb7841dbb07f22fe237c560cb1a0a7ae58d934a21bb469f59942381f89c64861e497cca853056733d0c89c9b91c4fdb7f785aa850fff7c21e752b814a9651cbe0e34467b92e688d52e8a9d63758ca1ac38990c04004286400956eada86e539034888d91200bbe4ddab7963da85acf4b3d206a89810e6bf308d1c19e3774ecca2ddba50872656b3a0469d309f0e6d1837f8d12f07f6175439b7021204ac40582dcb146ae8f834ee\" IsReverseCharge=\"false\"><PayMethods><PayMethod Type=\"ACCOUNT\" Amt=\"121.00\"/></PayMethods><Seller IDType=\"TIN\" IDNum=\"12345678\" Name=\"Test d.o.o.\"/><Buyer IDType=\"TIN\" IDNum=\"12345678\" Name=\"Test d.o.o\"/><Items><I N=\"Test artikal\" C=\"1234234\" U=\"kom\" Q=\"1\" UPB=\"100.00\" UPA=\"121.00\" R=\"0\" RR=\"true\" PB=\"100.00\" VR=\"21.00\" VA=\"21.00\" PA=\"121.00\"/></Items><SameTaxes><SameTax NumOfItems=\"1\" PriceBefVAT=\"100.00\" VATRate=\"21.00\" VATAmt=\"21.00\"/></SameTaxes></Invoice></RegisterInvoiceRequest>\n"
     ]
    }
   ],
   "source": [
    "print(etree.tostring(xml_obj, encoding='utf8').decode('utf8'))"
   ]
  },
  {
   "cell_type": "markdown",
   "metadata": {},
   "source": [
    "#### Potpisivanje"
   ]
  },
  {
   "cell_type": "code",
   "execution_count": 13,
   "metadata": {},
   "outputs": [],
   "source": [
    "from lxml import etree\n",
    "from signxml import XMLSigner, XMLVerifier, methods\n",
    "\n",
    "cert = open(\"coreit_cert.pem\", 'rb').read()\n",
    "key = open(\"coreit.key\", 'rb').read()\n",
    "\n",
    "signer = XMLSigner(\n",
    "    method = methods.enveloped,\n",
    "    signature_algorithm = 'rsa-sha256',\n",
    "    digest_algorithm = 'sha256',\n",
    "    c14n_algorithm = 'http://www.w3.org/2001/10/xml-exc-c14n#'\n",
    ")\n",
    "\n",
    "# Uklanjanje suvisnih DS namespace prefix-a prema preporuci sa: \n",
    "# https://github.com/XML-Security/signxml/issues/30#issuecomment-149618525\n",
    "ns = {}\n",
    "ns[None] = signer.namespaces['ds']\n",
    "signer.namespaces = ns\n",
    "\n",
    "# Konacno potpisivanje\n",
    "signed_xml = signer.sign(\n",
    "    xml_obj, \n",
    "    key=key,\n",
    "    cert=cert\n",
    ")"
   ]
  },
  {
   "cell_type": "markdown",
   "metadata": {},
   "source": [
    "#### Rezultat"
   ]
  },
  {
   "cell_type": "code",
   "execution_count": 14,
   "metadata": {},
   "outputs": [
    {
     "name": "stdout",
     "output_type": "stream",
     "text": [
      "<RegisterInvoiceRequest xmlns:xsd=\"http://www.w3.org/2001/XMLSchema\" xmlns:xsi=\"http://www.w3.org/2001/XMLSchema-instance\" xmlns=\"https://efi.tax.gov.me/fs/schema\" Id=\"Request\" Version=\"1\"><Header UUID=\"b2ce055f-aa65-4a0f-b6cb-bf492a8e31ff\" SendDateTime=\"2020-11-04T14:07:14+01:00\"/><Invoice TypeOfInv=\"NONCASH\" IsSimplifiedInv=\"false\" IssueDateTime=\"2020-11-04T14:07:14+01:00\" InvNum=\"1/2020\" InvOrdNum=\"1\" IsIssuerInVAT=\"true\" TotPriceWoVAT=\"100.00\" TotVATAmt=\"21.00\" TotPrice=\"121.00\" OperatorCode=\"oo123oo123\" BusinUnitCode=\"xx123xx123\" SoftCode=\"ss123ss123\" IIC=\"af1237d9bb449406a7c108f95897505e\" IICSignature=\"83a5cb5cc6efcde84b128f51276d6ce797893eadcdf3cd55fbc93b46389203aa7145e03663c09099ab2dbec86d670225d108e87494b1f6f36d0409ef682293baa2a483f57abcac1485b47241bad6e28ea4720b8b9784b5c83ceb7841dbb07f22fe237c560cb1a0a7ae58d934a21bb469f59942381f89c64861e497cca853056733d0c89c9b91c4fdb7f785aa850fff7c21e752b814a9651cbe0e34467b92e688d52e8a9d63758ca1ac38990c04004286400956eada86e539034888d91200bbe4ddab7963da85acf4b3d206a89810e6bf308d1c19e3774ecca2ddba50872656b3a0469d309f0e6d1837f8d12f07f6175439b7021204ac40582dcb146ae8f834ee\" IsReverseCharge=\"false\"><PayMethods><PayMethod Type=\"ACCOUNT\" Amt=\"121.00\"/></PayMethods><Seller IDType=\"TIN\" IDNum=\"12345678\" Name=\"Test d.o.o.\"/><Buyer IDType=\"TIN\" IDNum=\"12345678\" Name=\"Test d.o.o\"/><Items><I N=\"Test artikal\" C=\"1234234\" U=\"kom\" Q=\"1\" UPB=\"100.00\" UPA=\"121.00\" R=\"0\" RR=\"true\" PB=\"100.00\" VR=\"21.00\" VA=\"21.00\" PA=\"121.00\"/></Items><SameTaxes><SameTax NumOfItems=\"1\" PriceBefVAT=\"100.00\" VATRate=\"21.00\" VATAmt=\"21.00\"/></SameTaxes></Invoice><Signature xmlns=\"http://www.w3.org/2000/09/xmldsig#\"><SignedInfo><CanonicalizationMethod Algorithm=\"http://www.w3.org/2001/10/xml-exc-c14n#\"/><SignatureMethod Algorithm=\"http://www.w3.org/2001/04/xmldsig-more#rsa-sha256\"/><Reference URI=\"#Request\"><Transforms><Transform Algorithm=\"http://www.w3.org/2000/09/xmldsig#enveloped-signature\"/><Transform Algorithm=\"http://www.w3.org/2001/10/xml-exc-c14n#\"/></Transforms><DigestMethod Algorithm=\"http://www.w3.org/2001/04/xmlenc#sha256\"/><DigestValue>93lN2r1V1fCceP4xxGwzn2vSvYsOeOvWwOFS2S5ZPuY=</DigestValue></Reference></SignedInfo><SignatureValue>DMhOGYPhDCLBa7pr+04O1K403eq1QGebr/nvr233qV3ZQp19baT/gpwyhuoZTjGTG7tQjG+iG1zv1Hjsk5W7J3jihk8HrO8skg+aKf6DonzRYuelG84jYWKArHcYmfKf1LclObpg2OfBkDrm6dglV/9zT3FhxT6nwdLFmz983QVqw+9+1jzI0KMQIHDu7mnMiGVxTYvG2Bh0BV6ykjbIqjSpkBXZEMGL9lE69P2tjsyLs78UVkpFK019D3iECjIm+KrshGIGMrKjRXbYYOd+D6mwJnVy/G39uuhfe1Dj4TST4sfJz1PkSnpZim5UEM6PjJE6zJdnN6hfJN/gn02g4Q==</SignatureValue><KeyInfo><X509Data><X509Certificate>MIIFoDCCBAigAwIBAgIIAosoHBIRrfUwDQYJKoZIhvcNAQELBQAwTzELMAkGA1UE\n",
      "BhMCTUUxDzANBgNVBAoMBkNvcmVpdDEXMBUGA1UEYQwOVkFUTUUtMDI3NzUwMTgx\n",
      "FjAUBgNVBAMMDUNvcmVpdCBTdWIgQ0EwHhcNMjAxMDA1MTIxNDQ3WhcNMjMxMDA1\n",
      "MTIxNDQ3WjCBmzELMAkGA1UEBhMCTUUxGjAYBgNVBAoMEVRlc3QgT25seSBDb21w\n",
      "YW55MRcwFQYDVQRhDA5WQVRNRS0xMjM0NTY3ODESMBAGA1UECwwJT3BlcmFjaWpl\n",
      "MQ4wDAYDVQQFEwUxMDAwMTEzMDEGA1UEAwwqVGVzdCBPbmx5IENvbXBhbnkgKFBl\n",
      "xI1hdC9BdXRlbnRpZmlrYWNpamEpMIIBIjANBgkqhkiG9w0BAQEFAAOCAQ8AMIIB\n",
      "CgKCAQEAqzK8vMGchz7qc5K7eqvLy3kMIO7omEv406wLU+vIMIeusmwebrVYCd03\n",
      "EdMrI6ktDFiUuQbD1Ze0+oxpBLT9iFpB3njTf+z2phI5BNkEseHGxc0BrT8S2DTG\n",
      "qO13xAYwcqViK6cARfpgzpRB6B1HLVKmW5PwlwNQlmXuM61bQqyaPLrToNex+drV\n",
      "ybO9r2zLQzY5ztNV5F1Uy/pQnggZt2qRyFO71cW/D7+Vc1d14DGG4gy3TmW36BQK\n",
      "3zSGBy11psNLLsNDPl14JaqrKZgKv9o6M9+qZ0yb08HHoURkR91XsbJ0YnUZJy+D\n",
      "jy6rya7iqqN5y5MIc9qfdul7HI/FuQIDAQABo4IBsTCCAa0wDAYDVR0TAQH/BAIw\n",
      "ADAfBgNVHSMEGDAWgBRS3xfznifJOu61Gx/QkwDS8wtU/jBxBggrBgEFBQcBAQRl\n",
      "MGMwLwYIKwYBBQUHMAKGI2h0dHA6Ly9jYS5jb3JlaXQubWUvQ29yZWl0U3ViQ0Eu\n",
      "Y2VyMDAGCCsGAQUFBzABhiRodHRwOi8vb2NzcC5jYS5jb3JlaXQubWUvQ29yZWl0\n",
      "U3ViQ0EwQgYDVR0gBDswOTA3Bg0rBgEEAYOjKQEBAgIBMCYwJAYIKwYBBQUHAgEW\n",
      "GGh0dHA6Ly9jYS5jb3JlaXQubWUvY3BzLzBcBggrBgEFBQcBAwRQME4wCAYGBACO\n",
      "RgEBMBMGBgQAjkYBBjAJBgcEAI5GAQYCMC0GBgQAjkYBBTAjMCEWG2h0dHBzOi8v\n",
      "Y2EuY29yZWl0Lm1lL3Bkcy9lbhMCZW4wOAYDVR0fBDEwLzAtoCugKYYnaHR0cDov\n",
      "L2NybC5jYS5jb3JlaXQubWUvQ29yZWl0U3ViQ0EuY3JsMB0GA1UdDgQWBBSLBPEd\n",
      "crmjuxuatJAJ3dUzJmzzbjAOBgNVHQ8BAf8EBAMCBsAwDQYJKoZIhvcNAQELBQAD\n",
      "ggGBACp0Yi52FnYapjzVv//lC17uU6EKrIomCs1QUQSQE7zXrz4pBgnB3v4mNS1g\n",
      "0EzFtzfkIspjQex1Y8D/SdgtFrVmwfmUhsI/GLtr1VvlSVTMdRoekGDHS8J89wna\n",
      "rebV3pxfIFpmKw3iqQwIQXur5gXCRojPehJoAg3J/YhA1XT6D0aEYJVhRjIuSqee\n",
      "c/G7XIDKnr8sOy+iOBaHVjvnQ5cYmXgVyslDuWFZ7N5mRrWYreXX+WaOAQf1+zEq\n",
      "BsRwZp7jAU62dmI4D4C/FqrANhOby6FKOjCylX7VrF3igZyQ+KHVETSxqJXMTyQ9\n",
      "uBRZ/G+lubDfjGVlcwznQLPpo3VFpExIvS8Ne/5M1KJjBcVhzc2lPC5ObIyu+Tex\n",
      "IYNvuj2FwRs9xLGAwkO0LMJNfjYPItWhBoHZej3SUScgBGtI6p9n8xFrMly93tAJ\n",
      "+GhBX4Wncz3TAUhkhH8jPvJUJVYil1QGToOCBIp/XD76BbF67Q/DStDSCeU68CqS\n",
      "oTQLMw==\n",
      "</X509Certificate></X509Data></KeyInfo></Signature></RegisterInvoiceRequest>\n"
     ]
    }
   ],
   "source": [
    "print(etree.tostring(signed_xml, encoding='utf8').decode('utf8'))"
   ]
  },
  {
   "cell_type": "markdown",
   "metadata": {},
   "source": [
    "### Formiranje SOAP zahtjeva ([@sstevan](https://github.com/sstevan))"
   ]
  },
  {
   "cell_type": "code",
   "execution_count": 15,
   "metadata": {},
   "outputs": [
    {
     "name": "stdout",
     "output_type": "stream",
     "text": [
      "<soapenv:Envelope xmlns:soapenv=\"http://schemas.xmlsoap.org/soap/envelope/\"><soapenv:Header/><soapenv:Body><RegisterInvoiceRequest xmlns:xsd=\"http://www.w3.org/2001/XMLSchema\" xmlns:xsi=\"http://www.w3.org/2001/XMLSchema-instance\" xmlns=\"https://efi.tax.gov.me/fs/schema\" Id=\"Request\" Version=\"1\"><Header UUID=\"b2ce055f-aa65-4a0f-b6cb-bf492a8e31ff\" SendDateTime=\"2020-11-04T14:07:14+01:00\"/><Invoice TypeOfInv=\"NONCASH\" IsSimplifiedInv=\"false\" IssueDateTime=\"2020-11-04T14:07:14+01:00\" InvNum=\"1/2020\" InvOrdNum=\"1\" IsIssuerInVAT=\"true\" TotPriceWoVAT=\"100.00\" TotVATAmt=\"21.00\" TotPrice=\"121.00\" OperatorCode=\"oo123oo123\" BusinUnitCode=\"xx123xx123\" SoftCode=\"ss123ss123\" IIC=\"af1237d9bb449406a7c108f95897505e\" IICSignature=\"83a5cb5cc6efcde84b128f51276d6ce797893eadcdf3cd55fbc93b46389203aa7145e03663c09099ab2dbec86d670225d108e87494b1f6f36d0409ef682293baa2a483f57abcac1485b47241bad6e28ea4720b8b9784b5c83ceb7841dbb07f22fe237c560cb1a0a7ae58d934a21bb469f59942381f89c64861e497cca853056733d0c89c9b91c4fdb7f785aa850fff7c21e752b814a9651cbe0e34467b92e688d52e8a9d63758ca1ac38990c04004286400956eada86e539034888d91200bbe4ddab7963da85acf4b3d206a89810e6bf308d1c19e3774ecca2ddba50872656b3a0469d309f0e6d1837f8d12f07f6175439b7021204ac40582dcb146ae8f834ee\" IsReverseCharge=\"false\"><PayMethods><PayMethod Type=\"ACCOUNT\" Amt=\"121.00\"/></PayMethods><Seller IDType=\"TIN\" IDNum=\"12345678\" Name=\"Test d.o.o.\"/><Buyer IDType=\"TIN\" IDNum=\"12345678\" Name=\"Test d.o.o\"/><Items><I N=\"Test artikal\" C=\"1234234\" U=\"kom\" Q=\"1\" UPB=\"100.00\" UPA=\"121.00\" R=\"0\" RR=\"true\" PB=\"100.00\" VR=\"21.00\" VA=\"21.00\" PA=\"121.00\"/></Items><SameTaxes><SameTax NumOfItems=\"1\" PriceBefVAT=\"100.00\" VATRate=\"21.00\" VATAmt=\"21.00\"/></SameTaxes></Invoice><Signature xmlns=\"http://www.w3.org/2000/09/xmldsig#\"><SignedInfo><CanonicalizationMethod Algorithm=\"http://www.w3.org/2001/10/xml-exc-c14n#\"/><SignatureMethod Algorithm=\"http://www.w3.org/2001/04/xmldsig-more#rsa-sha256\"/><Reference URI=\"#Request\"><Transforms><Transform Algorithm=\"http://www.w3.org/2000/09/xmldsig#enveloped-signature\"/><Transform Algorithm=\"http://www.w3.org/2001/10/xml-exc-c14n#\"/></Transforms><DigestMethod Algorithm=\"http://www.w3.org/2001/04/xmlenc#sha256\"/><DigestValue>93lN2r1V1fCceP4xxGwzn2vSvYsOeOvWwOFS2S5ZPuY=</DigestValue></Reference></SignedInfo><SignatureValue>DMhOGYPhDCLBa7pr+04O1K403eq1QGebr/nvr233qV3ZQp19baT/gpwyhuoZTjGTG7tQjG+iG1zv1Hjsk5W7J3jihk8HrO8skg+aKf6DonzRYuelG84jYWKArHcYmfKf1LclObpg2OfBkDrm6dglV/9zT3FhxT6nwdLFmz983QVqw+9+1jzI0KMQIHDu7mnMiGVxTYvG2Bh0BV6ykjbIqjSpkBXZEMGL9lE69P2tjsyLs78UVkpFK019D3iECjIm+KrshGIGMrKjRXbYYOd+D6mwJnVy/G39uuhfe1Dj4TST4sfJz1PkSnpZim5UEM6PjJE6zJdnN6hfJN/gn02g4Q==</SignatureValue><KeyInfo><X509Data><X509Certificate>MIIFoDCCBAigAwIBAgIIAosoHBIRrfUwDQYJKoZIhvcNAQELBQAwTzELMAkGA1UE\n",
      "BhMCTUUxDzANBgNVBAoMBkNvcmVpdDEXMBUGA1UEYQwOVkFUTUUtMDI3NzUwMTgx\n",
      "FjAUBgNVBAMMDUNvcmVpdCBTdWIgQ0EwHhcNMjAxMDA1MTIxNDQ3WhcNMjMxMDA1\n",
      "MTIxNDQ3WjCBmzELMAkGA1UEBhMCTUUxGjAYBgNVBAoMEVRlc3QgT25seSBDb21w\n",
      "YW55MRcwFQYDVQRhDA5WQVRNRS0xMjM0NTY3ODESMBAGA1UECwwJT3BlcmFjaWpl\n",
      "MQ4wDAYDVQQFEwUxMDAwMTEzMDEGA1UEAwwqVGVzdCBPbmx5IENvbXBhbnkgKFBl\n",
      "xI1hdC9BdXRlbnRpZmlrYWNpamEpMIIBIjANBgkqhkiG9w0BAQEFAAOCAQ8AMIIB\n",
      "CgKCAQEAqzK8vMGchz7qc5K7eqvLy3kMIO7omEv406wLU+vIMIeusmwebrVYCd03\n",
      "EdMrI6ktDFiUuQbD1Ze0+oxpBLT9iFpB3njTf+z2phI5BNkEseHGxc0BrT8S2DTG\n",
      "qO13xAYwcqViK6cARfpgzpRB6B1HLVKmW5PwlwNQlmXuM61bQqyaPLrToNex+drV\n",
      "ybO9r2zLQzY5ztNV5F1Uy/pQnggZt2qRyFO71cW/D7+Vc1d14DGG4gy3TmW36BQK\n",
      "3zSGBy11psNLLsNDPl14JaqrKZgKv9o6M9+qZ0yb08HHoURkR91XsbJ0YnUZJy+D\n",
      "jy6rya7iqqN5y5MIc9qfdul7HI/FuQIDAQABo4IBsTCCAa0wDAYDVR0TAQH/BAIw\n",
      "ADAfBgNVHSMEGDAWgBRS3xfznifJOu61Gx/QkwDS8wtU/jBxBggrBgEFBQcBAQRl\n",
      "MGMwLwYIKwYBBQUHMAKGI2h0dHA6Ly9jYS5jb3JlaXQubWUvQ29yZWl0U3ViQ0Eu\n",
      "Y2VyMDAGCCsGAQUFBzABhiRodHRwOi8vb2NzcC5jYS5jb3JlaXQubWUvQ29yZWl0\n",
      "U3ViQ0EwQgYDVR0gBDswOTA3Bg0rBgEEAYOjKQEBAgIBMCYwJAYIKwYBBQUHAgEW\n",
      "GGh0dHA6Ly9jYS5jb3JlaXQubWUvY3BzLzBcBggrBgEFBQcBAwRQME4wCAYGBACO\n",
      "RgEBMBMGBgQAjkYBBjAJBgcEAI5GAQYCMC0GBgQAjkYBBTAjMCEWG2h0dHBzOi8v\n",
      "Y2EuY29yZWl0Lm1lL3Bkcy9lbhMCZW4wOAYDVR0fBDEwLzAtoCugKYYnaHR0cDov\n",
      "L2NybC5jYS5jb3JlaXQubWUvQ29yZWl0U3ViQ0EuY3JsMB0GA1UdDgQWBBSLBPEd\n",
      "crmjuxuatJAJ3dUzJmzzbjAOBgNVHQ8BAf8EBAMCBsAwDQYJKoZIhvcNAQELBQAD\n",
      "ggGBACp0Yi52FnYapjzVv//lC17uU6EKrIomCs1QUQSQE7zXrz4pBgnB3v4mNS1g\n",
      "0EzFtzfkIspjQex1Y8D/SdgtFrVmwfmUhsI/GLtr1VvlSVTMdRoekGDHS8J89wna\n",
      "rebV3pxfIFpmKw3iqQwIQXur5gXCRojPehJoAg3J/YhA1XT6D0aEYJVhRjIuSqee\n",
      "c/G7XIDKnr8sOy+iOBaHVjvnQ5cYmXgVyslDuWFZ7N5mRrWYreXX+WaOAQf1+zEq\n",
      "BsRwZp7jAU62dmI4D4C/FqrANhOby6FKOjCylX7VrF3igZyQ+KHVETSxqJXMTyQ9\n",
      "uBRZ/G+lubDfjGVlcwznQLPpo3VFpExIvS8Ne/5M1KJjBcVhzc2lPC5ObIyu+Tex\n",
      "IYNvuj2FwRs9xLGAwkO0LMJNfjYPItWhBoHZej3SUScgBGtI6p9n8xFrMly93tAJ\n",
      "+GhBX4Wncz3TAUhkhH8jPvJUJVYil1QGToOCBIp/XD76BbF67Q/DStDSCeU68CqS\n",
      "oTQLMw==\n",
      "</X509Certificate></X509Data></KeyInfo></Signature></RegisterInvoiceRequest></soapenv:Body></soapenv:Envelope>\n"
     ]
    }
   ],
   "source": [
    "# sstevan: Formiranje i slanje SOAP zahtjeva\n",
    "\n",
    "soap_ns = 'http://schemas.xmlsoap.org/soap/envelope/'\n",
    "ns_map = {'soapenv': soap_ns}\n",
    "\n",
    "envelope = etree.Element(etree.QName(soap_ns, 'Envelope'), nsmap=ns_map)\n",
    "header = etree.SubElement(envelope, etree.QName(soap_ns, 'Header'), nsmap=ns_map)\n",
    "body = etree.SubElement(envelope, etree.QName(soap_ns, 'Body'), nsmap=ns_map)\n",
    "\n",
    "# sstevan: Dodavanje prethodno potpisano zahtjeva RegisterInvoiceRequest\n",
    "reg_invoice_req = body.append(signed_xml)\n",
    "soap_request = etree.tostring(envelope, encoding='utf8')\n",
    "\n",
    "print(soap_request.decode('utf8'))"
   ]
  },
  {
   "cell_type": "markdown",
   "metadata": {},
   "source": [
    "### Slanje SOAP zahtjeva ([@sstevan](https://github.com/sstevan))"
   ]
  },
  {
   "cell_type": "code",
   "execution_count": 16,
   "metadata": {
    "pycharm": {
     "name": "#%%\n"
    },
    "scrolled": true
   },
   "outputs": [
    {
     "name": "stdout",
     "output_type": "stream",
     "text": [
      "<env:Envelope xmlns:env=\"http://schemas.xmlsoap.org/soap/envelope/\">\n",
      "  <env:Header/>\n",
      "  <env:Body>\n",
      "    <RegisterInvoiceResponse xmlns=\"https://efi.tax.gov.me/fs/schema\" xmlns:ns0=\"http://www.w3.org/2000/09/xmldsig#\" Id=\"Response\" Version=\"1\">\n",
      "      <Header xmlns=\"https://efi.tax.gov.me/fs/schema\" UUID=\"87df6c1e-1a72-4952-ad7d-d08dc103ce1d\" RequestUUID=\"b2ce055f-aa65-4a0f-b6cb-bf492a8e31ff\" SendDateTime=\"2020-11-04T14:07:14+01:00\"/>\n",
      "      <FIC xmlns=\"https://efi.tax.gov.me/fs/schema\">a9b5ae8e-c4bb-4db5-82a2-a1ea420ebf74</FIC>\n",
      "      <Signature xmlns=\"http://www.w3.org/2000/09/xmldsig#\">\n",
      "        <SignedInfo>\n",
      "          <CanonicalizationMethod Algorithm=\"http://www.w3.org/2001/10/xml-exc-c14n#\"/>\n",
      "          <SignatureMethod Algorithm=\"http://www.w3.org/2001/04/xmldsig-more#rsa-sha256\"/>\n",
      "          <Reference URI=\"#Response\">\n",
      "            <Transforms>\n",
      "              <Transform Algorithm=\"http://www.w3.org/2000/09/xmldsig#enveloped-signature\"/>\n",
      "              <Transform Algorithm=\"http://www.w3.org/2001/10/xml-exc-c14n#\"/>\n",
      "            </Transforms>\n",
      "            <DigestMethod Algorithm=\"http://www.w3.org/2001/04/xmlenc#sha256\"/>\n",
      "            <DigestValue>txTcKgPWBdQ2svU0DPnz8nI15o961p/QvFWt3TUC82Q=</DigestValue>\n",
      "          </Reference>\n",
      "        </SignedInfo>\n",
      "        <SignatureValue>aHvUY3uay1cQdquZZo1a3bqjpNUHwitRpYSCc8Uj+/Y+TfRRF+7NbEiktAhbeDdw2b1mhze9s2qL\n",
      "lt9Bqer4tcEKZ8CQ7gfv4tCtGxODf9YpPZBLqvgKprav+4tIR+q+7CmlindQwy3B49qvqFdVyM1d\n",
      "Rtx4F2NYyAqrcOh9drtsVeX7GyjvcyYvGXUvMH4tgVO4ozntRzqX6gwkV2xhvxSkzpUIX+5v8C/X\n",
      "D7hTF1AXNlkgDCDaEXoh/sSwRAPdPwTbI1QSH017DfDApO6NdfwoVLQJZrAp03opsFiw+4CDDrvN\n",
      "QDRSt1vysjhJlnQF2kG630N/Jzybh3hwMV+ACw==</SignatureValue>\n",
      "        <KeyInfo>\n",
      "          <X509Data>\n",
      "            <X509Certificate>MIIHVjCCBb6gAwIBAgIEXQLgzjANBgkqhkiG9w0BAQsFADA0MQswCQYDVQQGEwJtZTEQMA4GA1UE\n",
      "ChMHUG9zdGFDRzETMBEGA1UEAxMKUG9zdGFDRyBDQTAeFw0yMDA4MjYwOTM0MjlaFw0yMzA4MjYx\n",
      "MDA0MjlaMHoxCzAJBgNVBAYTAk1FMRQwEgYDVQQLEwtQcmF2bm8gbGljZTEuMBUGA1UEChMOUG9y\n",
      "ZXNrYSB1cHJhdmEwFQYDVQRhEw5WQVRNRS0xMTA0NDc2MDElMAwGA1UEBRMFNDA2MTkwFQYDVQQD\n",
      "Ew5Qb3Jlc2thIHVwcmF2YTCCASIwDQYJKoZIhvcNAQEBBQADggEPADCCAQoCggEBAK1fDZf0sLP8\n",
      "iU9yguE6aEgBenAYXwGXHlRXpvWC6Ll68GJylxLB0JuFyaMKq5vAGIsg/mv5hFIB223TZxJqoA4W\n",
      "HR30gNuvOIUiKkWaTAJcZPaaxOEcyEMqgzWPKYrfCSG8Xk6/pd/afwrwWPT0+xuFL3olUaJgRdqG\n",
      "6jGy0e/x7XxM80SztMHrnY5gAwShxQ2YhYsgcv3O+/9IEhO5rS8/OhoXY0zqDr4xYEDUF7SCMRUi\n",
      "jRMFZa0UMd06akr6StsPxXNIeDBs7daSwgxXEDyi5g1DnPrLdYl9HdqB82/oMQ/M31injxuGo6eg\n",
      "sUdT9C2lOkgpIY9h5wme2RSrvbUCAwEAAaOCA6gwggOkMA4GA1UdDwEB/wQEAwIGwDBGBgNVHSAE\n",
      "PzA9MDsGDCsGAQQBgp8BAQYBAjArMCkGCCsGAQUFBwIBFh1odHRwOi8vd3d3LnBvc3RhY2ctY2Eu\n",
      "bWUvY3BzLzCBsgYIKwYBBQUHAQMEgaUwgaIwCAYGBACORgEBMIGABgYEAI5GAQUwdjA5FjNodHRw\n",
      "czovL3d3dy5wb3N0YWNnLWNhLm1lL2Nwcy9wb3N0YWNnLWNhX3Bkc19lbi5wZGYTAmVuMDkWM2h0\n",
      "dHBzOi8vd3d3LnBvc3RhY2ctY2EubWUvY3BzL3Bvc3RhY2ctY2FfcGRzX3NyLnBkZhMCc3IwEwYG\n",
      "BACORgEGMAkGBwQAjkYBBgIwTgYIKwYBBQUHAQEEQjBAMD4GCCsGAQUFBzAChjJodHRwOi8vd3d3\n",
      "LnBvc3RhY2ctY2EubWUvY2VyL1Bvc3RhQ0ctQ0FfY2FjZXJ0LmNlcjCBgAYDVR0SBHkwd6R1MHMx\n",
      "CzAJBgNVBAYTAk1FMTYwNAYDVQQKEy1QT1NUQSBDUk5FIEdPUkUgQUtDSU9OQVJTS08gRFJVU1RW\n",
      "TyBQT0RHT1JJQ0ExFzAVBgNVBGETDlZBVE1FLTAyODY3OTQwMRMwEQYDVQQDEwpQb3N0YUNHIENB\n",
      "MD0GA1UdEQQ2MDSBHHZlc2VsaW4uam92aWNldmljQHRheC5nb3YubWWBFHBvcmVza2F1cHJhdmFA\n",
      "Z292Lm1lMIIBQQYDVR0fBIIBODCCATQwTKBKoEikRjBEMQswCQYDVQQGEwJtZTEQMA4GA1UEChMH\n",
      "UG9zdGFDRzETMBEGA1UEAxMKUG9zdGFDRyBDQTEOMAwGA1UEAxMFQ1JMNDIwgeOggeCggd2GW2xk\n",
      "YXA6Ly9sZGFwLnBvc3RhY2ctY2EubWUvY249UG9zdGFDRyUyMENBLG89UG9zdGFDRyxjPW1lP2Nl\n",
      "cnRpZmljYXRlUmV2b2NhdGlvbkxpc3QlM0JiaW5hcnmGPmh0dHA6Ly9laWQucG9zdGFjZy1jYS5t\n",
      "ZS9jcmwvcG9zdGFjZ19jYV9wb3N0YWNnX21lX2NybGZpbGUuY3Jshj5odHRwOi8vd3d3LnBvc3Rh\n",
      "Y2ctY2EubWUvY3JsL3Bvc3RhY2dfY2FfcG9zdGFjZ19tZV9jcmxmaWxlLmNybDAfBgNVHSMEGDAW\n",
      "gBR3Y0xYMrlU0RoJ93Quq6uNPKoq8TAdBgNVHQ4EFgQUFjnokiRtOybrNf+mrU3dzvW6fYkwDQYJ\n",
      "KoZIhvcNAQELBQADggGBALdkMCpx6vKKPj+x3chOvZeoS4s5Yc7LxQdUMHKk1v7f6ff5FmtNKbl3\n",
      "mez9ipRkmfakN4+yrrHSW1AJI754TkeX6f7sB+dtXxML5VuFX3jSY+bA/ctnuz2sKKwKGx7zAcuB\n",
      "eI7OErqwLFLMyGMgo9GWSUX11hEAzjaNKX0pGkccrJ8eh0cvUmsVIGqskr0aqxrzS2l8b4qEWJlx\n",
      "orhHFzTtkSkIMR+Q7mYLBJx4FnJRJt3EQTYcmKnf/sBx9ZoqXfqPdT1Gf+Tl6Nwy4hGcRnViAggF\n",
      "OFHEP53EN26Xqhs79crpElIQ6sYlLakUkr5dfnozsDOhWisty/dgmewzSwFRiApKrYRnP3luD4Vo\n",
      "tyzkSxPWJKMyWuoko119/Oz2K1JlXAL+euBvfj2rdZqWfMDn1mOTboz9N/jmti7A7PeOvtzSq60u\n",
      "plw9IVQUDIGI2+KmxkNzu1ISGOAmzZxCEAG8Cc6GVK6JVHPvy4DyCUPNFSt4ekfv+VktqLPXH/Tf\n",
      "hg==</X509Certificate>\n",
      "          </X509Data>\n",
      "        </KeyInfo>\n",
      "      </Signature>\n",
      "    </RegisterInvoiceResponse>\n",
      "  </env:Body>\n",
      "</env:Envelope>\n",
      "\n"
     ]
    }
   ],
   "source": [
    "# Slanje SOAP zahtjeva\n",
    "import requests\n",
    "import urllib3\n",
    "\n",
    "urllib3.disable_warnings(urllib3.exceptions.InsecureRequestWarning)\n",
    "efi_url = 'https://efitest.tax.gov.me:443/fs-v1'\n",
    "\n",
    "headers = {'content-type': 'text/xml'}\n",
    "\n",
    "# Da izbjegnemo 'SSL: CERTIFICATE_VERIFY_FAILED' gresku dodajemo verify=False\n",
    "response = requests.post(efi_url, data=soap_request,headers=headers, verify=False)\n",
    "xml_response = etree.fromstring(response.content)\n",
    "\n",
    "print(etree.tostring(xml_response, encoding='utf8', pretty_print=1).decode('utf8'))"
   ]
  },
  {
   "cell_type": "markdown",
   "metadata": {},
   "source": [
    "### I, najzad, FIC (JIKR) je"
   ]
  },
  {
   "cell_type": "code",
   "execution_count": 17,
   "metadata": {},
   "outputs": [
    {
     "data": {
      "text/plain": [
       "'a9b5ae8e-c4bb-4db5-82a2-a1ea420ebf74'"
      ]
     },
     "execution_count": 17,
     "metadata": {},
     "output_type": "execute_result"
    }
   ],
   "source": [
    "fic = xml_response.find('.//{https://efi.tax.gov.me/fs/schema}FIC')\n",
    "fic.text"
   ]
  },
  {
   "cell_type": "markdown",
   "metadata": {},
   "source": [
    "### Generisanje QR kod-a"
   ]
  },
  {
   "cell_type": "code",
   "execution_count": 18,
   "metadata": {},
   "outputs": [
    {
     "name": "stdout",
     "output_type": "stream",
     "text": [
      "URL: https://efitest.tax.gov.me/ic/#/verify?iic=af1237d9bb449406a7c108f95897505e&tin=12345678&crtd=2020-11-04T14:07:14+01:00&ord=1&bu=bb123bb123&cr=cc123cc123&sw=ss123ss123&prc=121.00\n"
     ]
    }
   ],
   "source": [
    "# Primjer: https://efitest.tax.gov.me/ic/#/verify?iic=EA26D5BE7F45827026108F825A8A512B&tin=91806031&crtd=2019-09-26T13:50:13+01:00&ord=6&bu=bg517kw842&cr=xb131ap287&sw=gz434bv927&prc=199.00\n",
    "url = 'https://efitest.tax.gov.me/ic/#/verify?iic={iic}&tin={tin}&crtd={crtd}&ord={ord}&bu={bu}&cr={cr}&sw={sw}&prc={prc}'\n",
    "url = url.format(\n",
    "    iic = ikof,\n",
    "    tin = taxpayer['tin'],\n",
    "    crtd = current_time,\n",
    "    ord = invoice['ord'],\n",
    "    bu = taxpayer['bu'],\n",
    "    cr = taxpayer['cr'],\n",
    "    sw = taxpayer['sw'],\n",
    "    prc = invoice['prc']\n",
    ")\n",
    "print('URL:', url)"
   ]
  },
  {
   "cell_type": "code",
   "execution_count": 19,
   "metadata": {},
   "outputs": [
    {
     "data": {
      "image/png": "[encoded data removed]",
      "text/plain": [
       "<IPython.core.display.Image object>"
      ]
     },
     "execution_count": 19,
     "metadata": {},
     "output_type": "execute_result"
    }
   ],
   "source": [
    "import qrcode\n",
    "from IPython.display import Image \n",
    "\n",
    "qr = qrcode.QRCode(version=1, box_size=5, border=0)\n",
    "qr.add_data(url)\n",
    "qr.make(fit=True)\n",
    "\n",
    "img = qr.make_image(fill='black', back_color='white')\n",
    "qr_filename = 'qr-{0}.png'.format(ikof)\n",
    "img.save(qr_filename)\n",
    "\n",
    "Image(qr_filename)"
   ]
  },
  {
   "cell_type": "code",
   "execution_count": null,
   "metadata": {},
   "outputs": [],
   "source": []
  }
 ],
 "metadata": {
  "kernelspec": {
   "display_name": "Python 3",
   "language": "python",
   "name": "python3"
  },
  "language_info": {
   "codemirror_mode": {
    "name": "ipython",
    "version": 3
   },
   "file_extension": ".py",
   "mimetype": "text/x-python",
   "name": "python",
   "nbconvert_exporter": "python",
   "pygments_lexer": "ipython3",
   "version": "3.7.7"
  }
 },
 "nbformat": 4,
 "nbformat_minor": 4
}
