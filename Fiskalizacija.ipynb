{
 "cells": [
  {
   "cell_type": "markdown",
   "metadata": {},
   "source": [
    "# Elektronska fiskalizacija"
   ]
  },
  {
   "cell_type": "markdown",
   "metadata": {},
   "source": [
    "**Primjeri kod-a u Python-u**"
   ]
  },
  {
   "cell_type": "markdown",
   "metadata": {},
   "source": [
    "Za primjere u prilogu je neophodno imati `signxml`, pa to valja prethodno instalirati (`!pip install signxml`). Osim toga, podrazumijeva se posjedovanje test PFX sertifikata (_CoreitPecatSoft.pfx_) u lokalnom folderu."
   ]
  },
  {
   "cell_type": "code",
   "execution_count": 1,
   "metadata": {},
   "outputs": [],
   "source": [
    "pfx_cert = 'CoreitPecatSoft.pfx'\n",
    "pfx_password = b'123456'"
   ]
  },
  {
   "cell_type": "markdown",
   "metadata": {},
   "source": [
    "### Priprema sertifikata"
   ]
  },
  {
   "cell_type": "markdown",
   "metadata": {},
   "source": [
    "Ekstrakcija privatnog kljuca i sertifikata iz PFX kontejnera. Za taj dio koristim kod dostupan na sljedecem [linku](https://www.jhanley.com/google-cloud-extracting-private-key-from-service-account-p12-credentials/) "
   ]
  },
  {
   "cell_type": "code",
   "execution_count": 2,
   "metadata": {},
   "outputs": [
    {
     "name": "stdout",
     "output_type": "stream",
     "text": [
      "Opening: CoreitPecatSoft.pfx\n",
      "Loading P12 (PFX) contents:\n",
      "Creating Private Key File: coreit.key\n",
      "Creating Certificate File: coreit_cert.pem\n",
      "Creating Certificate CA File: coreit_ca.pem\n"
     ]
    }
   ],
   "source": [
    "import OpenSSL.crypto\n",
    "import os\n",
    "\n",
    "###########################################################    \n",
    "# Version 1.00\n",
    "# Date Created: 2018-12-21\n",
    "# Last Update:  2018-12-21\n",
    "# https://www.jhanley.com\n",
    "# Copyright (c) 2018, John J. Hanley\n",
    "# Author: John Hanley\n",
    "###########################################################\n",
    "\n",
    "# Convert a Google P12 (PFX) service account into private key and certificate.\n",
    "# Convert an SSL Certifcate (PFX) into private key, certificate and CAs.\n",
    "\n",
    "def write_CAs(filename, p12):\n",
    "    # Write the Certificate Authorities, if any, to filename\n",
    "\n",
    "    if os.path.exists(filename):\n",
    "        os.remove(filename)\n",
    "\n",
    "    ca = p12.get_ca_certificates()\n",
    "\n",
    "    if ca is None:\n",
    "        return\n",
    "\n",
    "    print('Creating Certificate CA File:', filename)\n",
    "\n",
    "    with open(filename, 'wb') as f:\n",
    "        for cert in ca:\n",
    "            f.write(OpenSSL.crypto.dump_certificate(OpenSSL.crypto.FILETYPE_PEM, cert))\n",
    "\n",
    "def pfx_to_pem(pfx_path, pfx_password, pkey_path, pem_path, pem_ca_path):\n",
    "    '''\n",
    "    Decrypt the P12 (PFX) file and create a private key file and certificate file.\n",
    "\n",
    "    Input:\n",
    "        pfx_path    INPUT: This is the Google P12 file or SSL PFX certificate file\n",
    "        pfx_password    INPUT: Password used to protect P12 (PFX)\n",
    "        pkey_path   INPUT: File name to write the Private Key to\n",
    "        pem_path    INPUT: File name to write the Certificate to\n",
    "        pem_ca_path INPUT: File name to write the Certificate Authorities to\n",
    "    '''\n",
    "\n",
    "    print('Opening:', pfx_path)\n",
    "    with open(pfx_path, 'rb') as f_pfx:\n",
    "        pfx = f_pfx.read()\n",
    "\n",
    "    print('Loading P12 (PFX) contents:')\n",
    "    p12 = OpenSSL.crypto.load_pkcs12(pfx, pfx_password)\n",
    "\n",
    "    print('Creating Private Key File:', pkey_path)\n",
    "    with open(pkey_path, 'wb') as f:\n",
    "        # Write Private Key\n",
    "        f.write(OpenSSL.crypto.dump_privatekey(OpenSSL.crypto.FILETYPE_PEM, p12.get_privatekey()))\n",
    "\n",
    "    print('Creating Certificate File:', pem_path)\n",
    "    with open(pem_path, 'wb') as f:\n",
    "        # Write Certificate\n",
    "        f.write(OpenSSL.crypto.dump_certificate(OpenSSL.crypto.FILETYPE_PEM, p12.get_certificate()))\n",
    "\n",
    "    # Google P12 does not have certifiate authorities but SSL PFX certificates do\n",
    "    write_CAs(pem_ca_path, p12)\n",
    "\n",
    "\n",
    "# Start here\n",
    "pfx_to_pem(\n",
    "    pfx_cert,         # Google Service Account P12 file\n",
    "    pfx_password,     # P12 file password\n",
    "    'coreit.key',      # Filename to write private key\n",
    "    'coreit_cert.pem', # Filename to write certificate\n",
    "    'coreit_ca.pem')   # Filename to write CAs if present"
   ]
  },
  {
   "cell_type": "markdown",
   "metadata": {},
   "source": [
    "### Generisanje IKOF-a"
   ]
  },
  {
   "cell_type": "code",
   "execution_count": 3,
   "metadata": {},
   "outputs": [],
   "source": [
    "import hashlib\n",
    "from Crypto.PublicKey import RSA\n",
    "from Crypto.Cipher import PKCS1_v1_5 as Cipher_PKCS1_v1_5\n",
    "from Crypto.Signature import PKCS1_v1_5\n",
    "from base64 import b64decode, b64encode\n",
    "from Crypto.Hash import SHA256\n",
    "\n",
    "def generate_iis(data, private_key_path):\n",
    "    message = bytes(data, 'utf8')\n",
    "    digest = SHA256.new()\n",
    "    digest.update(message)    \n",
    "    private_key = False\n",
    "    with open(private_key_path, \"r\") as key_file:\n",
    "        private_key = RSA.importKey(key_file.read())\n",
    "    signer = PKCS1_v1_5.new(private_key)\n",
    "    sig = signer.sign(digest)\n",
    "    iic = hashlib.md5(sig).digest()\n",
    "    \n",
    "    return (sig.hex(), iic.hex())"
   ]
  },
  {
   "cell_type": "markdown",
   "metadata": {},
   "source": [
    "#### Primjer:"
   ]
  },
  {
   "cell_type": "code",
   "execution_count": 4,
   "metadata": {},
   "outputs": [
    {
     "name": "stdout",
     "output_type": "stream",
     "text": [
      "IIC:\n",
      " 46b368a2dd90ec1e70056fa2a5c9116098ac5984bec5fff739beefd1245c0e7d12cdc868ae842b00d36d140a6a5a96f98b37989e548e96122d15122b9240a7bcb9997ae6e8698bdc343f9cf1e84ddd213c5bec4aadb35be9c739fae50a0de6b156429616f971abf211c7a7fa8de8ade10664b52c0b42c2789ca7592c8b1930f4d61a248b7d490f859956f9bc639d502e7434286161d1d26ce2c9ae924d2fa53140bce24f9e51d83f3c0cb555abf5274a18f6333e56f6b6266e5eca664c435d6fc3b87d1337c6b3a45bd391aa2ec13300da79ae1eca858fa8ceb8e3fff882e5c1eb898595ce31f4461b6c83438c4ae0f6ce4ebd162721689a6cf2b9195df4fd59 \n",
      "IKOF:\n",
      " c3145b287db951918e32a0f3e743a635\n"
     ]
    }
   ],
   "source": [
    "(iic, ikof) = generate_iis(\n",
    "    \"{0}|{1}|{2}|{3}|{4}|{5}|{6}\".format(\n",
    "        \"12345678\",\n",
    "        \"2020-06-12T17:05:43+02:00\",\n",
    "        \"9952\",\n",
    "        \"bb123bb123\",\n",
    "        \"cc123cc123\",\n",
    "        \"ss123ss123\",\n",
    "        \"99.01\"\n",
    "    ),\n",
    "    'coreit.key'\n",
    ")\n",
    "print(\"IIC:\\n\", iic, \"\\nIKOF:\\n\", ikof)"
   ]
  },
  {
   "cell_type": "markdown",
   "metadata": {},
   "source": [
    "#### Test:"
   ]
  },
  {
   "cell_type": "markdown",
   "metadata": {},
   "source": [
    "Za test su poredjene vrijednosti dobijene izvrsavanjem primjera iz Tehnicke specifikacije v3.1"
   ]
  },
  {
   "cell_type": "code",
   "execution_count": 5,
   "metadata": {},
   "outputs": [],
   "source": [
    "assert iic.upper() == \"46B368A2DD90EC1E70056FA2A5C9116098AC5984BEC5FFF739BEEFD1245C0E7D12CDC868AE842B00D36D140A6A5A96F98B37989E548E96122D15122B9240A7BCB9997AE6E8698BDC343F9CF1E84DDD213C5BEC4AADB35BE9C739FAE50A0DE6B156429616F971ABF211C7A7FA8DE8ADE10664B52C0B42C2789CA7592C8B1930F4D61A248B7D490F859956F9BC639D502E7434286161D1D26CE2C9AE924D2FA53140BCE24F9E51D83F3C0CB555ABF5274A18F6333E56F6B6266E5ECA664C435D6FC3B87D1337C6B3A45BD391AA2EC13300DA79AE1ECA858FA8CEB8E3FFF882E5C1EB898595CE31F4461B6C83438C4AE0F6CE4EBD162721689A6CF2B9195DF4FD59\"\n",
    "assert ikof.upper() == \"C3145B287DB951918E32A0F3E743A635\""
   ]
  },
  {
   "cell_type": "markdown",
   "metadata": {},
   "source": [
    "### Priprema i potpisivanje XML-a"
   ]
  },
  {
   "cell_type": "markdown",
   "metadata": {},
   "source": [
    "Primjer XML fajla u je produzetku. Zbog jednostavnosti se koristim predefinisanim vrijednostima."
   ]
  },
  {
   "cell_type": "raw",
   "metadata": {},
   "source": [
    "<?xml version=\"1.0\"?>\n",
    "<RegisterInvoiceRequest \n",
    "    xmlns:xsd=\"http://www.w3.org/2001/XMLSchema\" \n",
    "    xmlns:xsi=\"http://www.w3.org/2001/XMLSchema-instance\" \n",
    "    Id=\"Request\" \n",
    "    Version=\"1\" \n",
    "    xmlns=\"https://efi.tax.gov.me/fs/schema\">\n",
    "    <Header \n",
    "        UUID=\"ed6d9696-7d32-4c49-ba28-3fb2a2785a90\" \n",
    "        SendDateTime=\"2020-11-02T11:52:13+01:00\" />\n",
    "    <Invoice \n",
    "        TypeOfInv=\"CASH\" \n",
    "        IsSimplifiedInv=\"false\" \n",
    "        IssueDateTime=\"2020-11-02T11:52:13+01:00\" \n",
    "        InvNum=\"10/2020/nt360fe389\" \n",
    "        InvOrdNum=\"10\" \n",
    "        TCRCode=\"nt360fe389\" \n",
    "        IsIssuerInVAT=\"true\" \n",
    "        TotPriceWoVAT=\"10.00\" \n",
    "        TotPrice=\"12.10\" \n",
    "        OperatorCode=\"oo123oo123\" \n",
    "        BusinUnitCode=\"xx123xx123\" \n",
    "        SoftCode=\"ss123ss123\" \n",
    "        IIC=\"047D11ADAC534EE44D645BF7201B3D1A\"         IICSignature=\"6591EF08634CBF6B84C08E6076F3FFD2D93859CC9389F90FAD3F0897569E25ECB3D1DE99246CAB33D049668BC59E17DC56EE4C0A4DAAADB8D3485106F0D2690BE623106C73B1765F39ED8887E3BF4B95671DFE17711CFC004B7DB46DD4EE278A2F0253B206F800650E95CD91FFE473AA571F3427C9DBCF66868C4B993DCBC8E6A4838E25EFC1D0450CBBD7CFA590890437CB51002BC754A201251221415B737F0BDFD37C950AB0400123845E0D6CFC50B87E2C30981A69D68D1981E95862E7F4099D54C296C1E9413DBD9393043EB060DDFB46F620E896A06A5DC5122FE21ABF3BD821854E9F89638C2493491540C68170E9A7A2603CEC6782CF27740CE42670\" \n",
    "        IsReverseCharge=\"false\">\n",
    "        <PayMethods>\n",
    "            <PayMethod Type=\"BANKNOTE\" Amt=\"12.10\" />\n",
    "        </PayMethods>\n",
    "        <Seller IDType=\"TIN\" IDNum=\"12345678\" Name=\"Test d.o.o\" />\n",
    "        <Items>\n",
    "            <I \n",
    "                N=\"Test artikal\" \n",
    "                C=\"1234234\" \n",
    "                U=\"kom\" \n",
    "                Q=\"10\" \n",
    "                UPB=\"1.21\" \n",
    "                UPA=\"1.21\" \n",
    "                PB=\"10.00\" \n",
    "                VR=\"21.00\" \n",
    "                VA=\"2.10\" \n",
    "                PA=\"12.10\" \n",
    "            />\n",
    "        </Items>\n",
    "    </Invoice>\n",
    "</RegisterInvoiceRequest>"
   ]
  },
  {
   "cell_type": "markdown",
   "metadata": {},
   "source": [
    "Priprema XML objekta i parsiranje XML sadrzaja"
   ]
  },
  {
   "cell_type": "code",
   "execution_count": 6,
   "metadata": {},
   "outputs": [],
   "source": [
    "xml = '<?xml version=\"1.0\"?><RegisterInvoiceRequest xmlns:xsd=\"http://www.w3.org/2001/XMLSchema\" xmlns:xsi=\"http://www.w3.org/2001/XMLSchema-instance\" Id=\"Request\" Version=\"1\" xmlns=\"https://efi.tax.gov.me/fs/schema\"><Header UUID=\"ed6d9696-7d32-4c49-ba28-3fb2a2785a90\" SendDateTime=\"2020-11-02T11:52:13+01:00\" /><Invoice TypeOfInv=\"CASH\" IsSimplifiedInv=\"false\" IssueDateTime=\"2020-11-02T11:52:13+01:00\" InvNum=\"10/2020/nt360fe389\" InvOrdNum=\"10\" TCRCode=\"nt360fe389\" IsIssuerInVAT=\"true\" TotPriceWoVAT=\"10.00\" TotPrice=\"12.10\" OperatorCode=\"oo123oo123\" BusinUnitCode=\"xx123xx123\" SoftCode=\"ss123ss123\" IIC=\"047D11ADAC534EE44D645BF7201B3D1A\" IICSignature=\"6591EF08634CBF6B84C08E6076F3FFD2D93859CC9389F90FAD3F0897569E25ECB3D1DE99246CAB33D049668BC59E17DC56EE4C0A4DAAADB8D3485106F0D2690BE623106C73B1765F39ED8887E3BF4B95671DFE17711CFC004B7DB46DD4EE278A2F0253B206F800650E95CD91FFE473AA571F3427C9DBCF66868C4B993DCBC8E6A4838E25EFC1D0450CBBD7CFA590890437CB51002BC754A201251221415B737F0BDFD37C950AB0400123845E0D6CFC50B87E2C30981A69D68D1981E95862E7F4099D54C296C1E9413DBD9393043EB060DDFB46F620E896A06A5DC5122FE21ABF3BD821854E9F89638C2493491540C68170E9A7A2603CEC6782CF27740CE42670\" IsReverseCharge=\"false\"><PayMethods><PayMethod Type=\"BANKNOTE\" Amt=\"12.10\" /></PayMethods><Seller IDType=\"TIN\" IDNum=\"12345678\" Name=\"Test d.o.o\" /><Items><I N=\"Test artikal\" C=\"1234234\" U=\"kom\" Q=\"10\" UPB=\"1.21\" UPA=\"1.21\" PB=\"10.00\" VR=\"21.00\" VA=\"2.10\" PA=\"12.10\" /></Items></Invoice></RegisterInvoiceRequest>'\n",
    "from lxml import etree\n",
    "xml_obj = etree.fromstring(xml)"
   ]
  },
  {
   "cell_type": "markdown",
   "metadata": {},
   "source": [
    "#### Primjer"
   ]
  },
  {
   "cell_type": "code",
   "execution_count": 7,
   "metadata": {},
   "outputs": [],
   "source": [
    "from lxml import etree\n",
    "from signxml import XMLSigner, XMLVerifier, methods\n",
    "\n",
    "cert = open(\"coreit_cert.pem\", 'rb').read()\n",
    "key = open(\"coreit.key\", 'rb').read()\n",
    "\n",
    "signer = XMLSigner(\n",
    "    method = methods.enveloped,\n",
    "    signature_algorithm = 'rsa-sha256',\n",
    "    digest_algorithm = 'sha256',\n",
    "    c14n_algorithm = 'http://www.w3.org/2001/10/xml-exc-c14n#'\n",
    ")\n",
    "\n",
    "# Uklanjanje suvisnih DS namespace prefix-a prema preporuci sa: \n",
    "# https://github.com/XML-Security/signxml/issues/30#issuecomment-149618525\n",
    "ns = {}\n",
    "ns[None] = signer.namespaces['ds']\n",
    "signer.namespaces = ns\n",
    "\n",
    "# Konacno potpisivanje\n",
    "signed_xml = signer.sign(\n",
    "    xml_obj, \n",
    "    key=key,\n",
    "    cert=cert\n",
    ")"
   ]
  },
  {
   "cell_type": "markdown",
   "metadata": {},
   "source": [
    "#### Rezultat"
   ]
  },
  {
   "cell_type": "code",
   "execution_count": 8,
   "metadata": {},
   "outputs": [
    {
     "name": "stdout",
     "output_type": "stream",
     "text": [
      "<RegisterInvoiceRequest xmlns:xsd=\"http://www.w3.org/2001/XMLSchema\" xmlns:xsi=\"http://www.w3.org/2001/XMLSchema-instance\" xmlns=\"https://efi.tax.gov.me/fs/schema\" Id=\"Request\" Version=\"1\"><Header UUID=\"ed6d9696-7d32-4c49-ba28-3fb2a2785a90\" SendDateTime=\"2020-11-02T11:52:13+01:00\"/><Invoice TypeOfInv=\"CASH\" IsSimplifiedInv=\"false\" IssueDateTime=\"2020-11-02T11:52:13+01:00\" InvNum=\"10/2020/nt360fe389\" InvOrdNum=\"10\" TCRCode=\"nt360fe389\" IsIssuerInVAT=\"true\" TotPriceWoVAT=\"10.00\" TotPrice=\"12.10\" OperatorCode=\"oo123oo123\" BusinUnitCode=\"xx123xx123\" SoftCode=\"ss123ss123\" IIC=\"047D11ADAC534EE44D645BF7201B3D1A\" IICSignature=\"6591EF08634CBF6B84C08E6076F3FFD2D93859CC9389F90FAD3F0897569E25ECB3D1DE99246CAB33D049668BC59E17DC56EE4C0A4DAAADB8D3485106F0D2690BE623106C73B1765F39ED8887E3BF4B95671DFE17711CFC004B7DB46DD4EE278A2F0253B206F800650E95CD91FFE473AA571F3427C9DBCF66868C4B993DCBC8E6A4838E25EFC1D0450CBBD7CFA590890437CB51002BC754A201251221415B737F0BDFD37C950AB0400123845E0D6CFC50B87E2C30981A69D68D1981E95862E7F4099D54C296C1E9413DBD9393043EB060DDFB46F620E896A06A5DC5122FE21ABF3BD821854E9F89638C2493491540C68170E9A7A2603CEC6782CF27740CE42670\" IsReverseCharge=\"false\"><PayMethods><PayMethod Type=\"BANKNOTE\" Amt=\"12.10\"/></PayMethods><Seller IDType=\"TIN\" IDNum=\"12345678\" Name=\"Test d.o.o\"/><Items><I N=\"Test artikal\" C=\"1234234\" U=\"kom\" Q=\"10\" UPB=\"1.21\" UPA=\"1.21\" PB=\"10.00\" VR=\"21.00\" VA=\"2.10\" PA=\"12.10\"/></Items></Invoice><Signature xmlns=\"http://www.w3.org/2000/09/xmldsig#\"><SignedInfo><CanonicalizationMethod Algorithm=\"http://www.w3.org/2001/10/xml-exc-c14n#\"/><SignatureMethod Algorithm=\"http://www.w3.org/2001/04/xmldsig-more#rsa-sha256\"/><Reference URI=\"#Request\"><Transforms><Transform Algorithm=\"http://www.w3.org/2000/09/xmldsig#enveloped-signature\"/><Transform Algorithm=\"http://www.w3.org/2001/10/xml-exc-c14n#\"/></Transforms><DigestMethod Algorithm=\"http://www.w3.org/2001/04/xmlenc#sha256\"/><DigestValue>l4IDeuSr6s3qqM7kAkUuIf91nEBcGC81V7wElFl3buA=</DigestValue></Reference></SignedInfo><SignatureValue>N8wdPtLRyfDcJZkLfPvzPvPKeKhP3sPVJ39SZtOLC/y5/fUiCPoYpgmpZ7KWzgozjguyl/9UR7vfK5I/fqZ3pKZ18bm88zxovZPQs/olg+b0GjXM+xSIEki3pf2mL5KPk2Luhjpy0V6tAmBKJjaXi45EfWGXnxoEJ6GYNA4PscMupETHgs6EElBS36o/B1x1U/YMChZ1DlX2Q73jzpZL9Z3VEFYKCHiITIQmmnG7r9kXY/85Vau6g0hB5Q2TrR8REsWeD5pw3mIvINsudq4O8cWQGtSBJzmH7c0e0sqis1+1gjhnzAc3FguowTggqY+fGRhwsX4b+MkEfHFn8ygvDQ==</SignatureValue><KeyInfo><X509Data><X509Certificate>MIIFoDCCBAigAwIBAgIIAosoHBIRrfUwDQYJKoZIhvcNAQELBQAwTzELMAkGA1UE\n",
      "BhMCTUUxDzANBgNVBAoMBkNvcmVpdDEXMBUGA1UEYQwOVkFUTUUtMDI3NzUwMTgx\n",
      "FjAUBgNVBAMMDUNvcmVpdCBTdWIgQ0EwHhcNMjAxMDA1MTIxNDQ3WhcNMjMxMDA1\n",
      "MTIxNDQ3WjCBmzELMAkGA1UEBhMCTUUxGjAYBgNVBAoMEVRlc3QgT25seSBDb21w\n",
      "YW55MRcwFQYDVQRhDA5WQVRNRS0xMjM0NTY3ODESMBAGA1UECwwJT3BlcmFjaWpl\n",
      "MQ4wDAYDVQQFEwUxMDAwMTEzMDEGA1UEAwwqVGVzdCBPbmx5IENvbXBhbnkgKFBl\n",
      "xI1hdC9BdXRlbnRpZmlrYWNpamEpMIIBIjANBgkqhkiG9w0BAQEFAAOCAQ8AMIIB\n",
      "CgKCAQEAqzK8vMGchz7qc5K7eqvLy3kMIO7omEv406wLU+vIMIeusmwebrVYCd03\n",
      "EdMrI6ktDFiUuQbD1Ze0+oxpBLT9iFpB3njTf+z2phI5BNkEseHGxc0BrT8S2DTG\n",
      "qO13xAYwcqViK6cARfpgzpRB6B1HLVKmW5PwlwNQlmXuM61bQqyaPLrToNex+drV\n",
      "ybO9r2zLQzY5ztNV5F1Uy/pQnggZt2qRyFO71cW/D7+Vc1d14DGG4gy3TmW36BQK\n",
      "3zSGBy11psNLLsNDPl14JaqrKZgKv9o6M9+qZ0yb08HHoURkR91XsbJ0YnUZJy+D\n",
      "jy6rya7iqqN5y5MIc9qfdul7HI/FuQIDAQABo4IBsTCCAa0wDAYDVR0TAQH/BAIw\n",
      "ADAfBgNVHSMEGDAWgBRS3xfznifJOu61Gx/QkwDS8wtU/jBxBggrBgEFBQcBAQRl\n",
      "MGMwLwYIKwYBBQUHMAKGI2h0dHA6Ly9jYS5jb3JlaXQubWUvQ29yZWl0U3ViQ0Eu\n",
      "Y2VyMDAGCCsGAQUFBzABhiRodHRwOi8vb2NzcC5jYS5jb3JlaXQubWUvQ29yZWl0\n",
      "U3ViQ0EwQgYDVR0gBDswOTA3Bg0rBgEEAYOjKQEBAgIBMCYwJAYIKwYBBQUHAgEW\n",
      "GGh0dHA6Ly9jYS5jb3JlaXQubWUvY3BzLzBcBggrBgEFBQcBAwRQME4wCAYGBACO\n",
      "RgEBMBMGBgQAjkYBBjAJBgcEAI5GAQYCMC0GBgQAjkYBBTAjMCEWG2h0dHBzOi8v\n",
      "Y2EuY29yZWl0Lm1lL3Bkcy9lbhMCZW4wOAYDVR0fBDEwLzAtoCugKYYnaHR0cDov\n",
      "L2NybC5jYS5jb3JlaXQubWUvQ29yZWl0U3ViQ0EuY3JsMB0GA1UdDgQWBBSLBPEd\n",
      "crmjuxuatJAJ3dUzJmzzbjAOBgNVHQ8BAf8EBAMCBsAwDQYJKoZIhvcNAQELBQAD\n",
      "ggGBACp0Yi52FnYapjzVv//lC17uU6EKrIomCs1QUQSQE7zXrz4pBgnB3v4mNS1g\n",
      "0EzFtzfkIspjQex1Y8D/SdgtFrVmwfmUhsI/GLtr1VvlSVTMdRoekGDHS8J89wna\n",
      "rebV3pxfIFpmKw3iqQwIQXur5gXCRojPehJoAg3J/YhA1XT6D0aEYJVhRjIuSqee\n",
      "c/G7XIDKnr8sOy+iOBaHVjvnQ5cYmXgVyslDuWFZ7N5mRrWYreXX+WaOAQf1+zEq\n",
      "BsRwZp7jAU62dmI4D4C/FqrANhOby6FKOjCylX7VrF3igZyQ+KHVETSxqJXMTyQ9\n",
      "uBRZ/G+lubDfjGVlcwznQLPpo3VFpExIvS8Ne/5M1KJjBcVhzc2lPC5ObIyu+Tex\n",
      "IYNvuj2FwRs9xLGAwkO0LMJNfjYPItWhBoHZej3SUScgBGtI6p9n8xFrMly93tAJ\n",
      "+GhBX4Wncz3TAUhkhH8jPvJUJVYil1QGToOCBIp/XD76BbF67Q/DStDSCeU68CqS\n",
      "oTQLMw==\n",
      "</X509Certificate></X509Data></KeyInfo></Signature></RegisterInvoiceRequest>\n"
     ]
    }
   ],
   "source": [
    "print(etree.tostring(signed_xml, encoding='utf8').decode('utf8'))"
   ]
  },
  {
   "cell_type": "markdown",
   "metadata": {},
   "source": [
    "#### Test"
   ]
  },
  {
   "cell_type": "markdown",
   "metadata": {},
   "source": [
    "Za test su koristeni log-ovi iz [Markovog](https://github.com/markoesc) [FiscalizationService](https://github.com/markoesc/FiscalizationService) primjera"
   ]
  },
  {
   "cell_type": "code",
   "execution_count": 9,
   "metadata": {},
   "outputs": [],
   "source": [
    "signature_value = signed_xml.find('.//{http://www.w3.org/2000/09/xmldsig#}SignatureValue').text\n",
    "assert signature_value.startswith('N8wdPtLRyfDcJZkLfPvzPvPKeKhP3sPVJ39SZtOLC')\n",
    "digest_value = signed_xml.find('.//{http://www.w3.org/2000/09/xmldsig#}DigestValue').text\n",
    "assert digest_value == 'l4IDeuSr6s3qqM7kAkUuIf91nEBcGC81V7wElFl3buA='"
   ]
  },
  {
   "cell_type": "code",
   "execution_count": null,
   "metadata": {},
   "outputs": [],
   "source": []
  }
 ],
 "metadata": {
  "kernelspec": {
   "display_name": "Python 3",
   "language": "python",
   "name": "python3"
  },
  "language_info": {
   "codemirror_mode": {
    "name": "ipython",
    "version": 3
   },
   "file_extension": ".py",
   "mimetype": "text/x-python",
   "name": "python",
   "nbconvert_exporter": "python",
   "pygments_lexer": "ipython3",
   "version": "3.7.7"
  }
 },
 "nbformat": 4,
 "nbformat_minor": 4
}
